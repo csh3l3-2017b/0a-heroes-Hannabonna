{
 "cells": [
  {
   "cell_type": "code",
   "execution_count": 5,
   "metadata": {},
   "outputs": [
    {
     "name": "stdout",
     "output_type": "stream",
     "text": [
      "Test set:  53\n"
     ]
    }
   ],
   "source": [
    "import csv\n",
    "\n",
    "#pengkondisian data dan fungsi utama\n",
    "def main():\n",
    "    testSet = [] \n",
    "    testSet = loadData('./test.csv')\n",
    "    print('Test set: ', len(testSet)) \n",
    "    \n",
    "    hasil = []\n",
    "    for x in range(1,53):\n",
    "        if int(testSet[x][1]) >= 270:\n",
    "            hasil.append([testSet[x][0], 'MARKSMAN'])\n",
    "        elif int(testSet[x][5]) >= 500:\n",
    "            hasil.append([testSet[x][0], 'MAGE'])\n",
    "        elif int(testSet[x][3]) >= 25:\n",
    "            hasil.append([testSet[x][0], 'TANK'])\n",
    "        elif int(testSet[x][2]) >= 121:\n",
    "            hasil.append([testSet[x][0], 'ASSASSIN'])\n",
    "        elif int(testSet[x][4]) >= 2580:\n",
    "            hasil.append([testSet[x][0], 'FIGHTER'])\n",
    "        else:\n",
    "            hasil.append([testSet[x][0], 'SUPPORT'])\n",
    "    \n",
    "    hasil.insert(0, ['name', 'role'])\n",
    "\n",
    "    saveToCsv(hasil)\n",
    "\n",
    "#menyimpan data dalam bentuk .csv (file excel)\n",
    "def saveToCsv(hasil):\n",
    "    with open('./prediction.csv', 'w', newline='') as csvfile: #penamaan file csv\n",
    "        lines = csv.writer(csvfile)\n",
    "        for x in range(len(hasil)):\n",
    "            lines.writerow(hasil[x]) \n",
    "           \n",
    "        \n",
    "def loadData(file):\n",
    "    #menampikan data\n",
    "    dataTest = []\n",
    "\n",
    "    with open(file) as csvfile2:\n",
    "        lines = csv.reader(csvfile2)\n",
    "        dataset = list(lines)\n",
    "        for x in range(53): \n",
    "            for y in range(5):\n",
    "                dataset[x][y] = dataset[x][y]\n",
    "            dataTest.append(dataset[x])\n",
    "\n",
    "    return dataTest\n",
    "    \n",
    "main()"
   ]
  },
  {
   "cell_type": "code",
   "execution_count": null,
   "metadata": {
    "collapsed": true
   },
   "outputs": [],
   "source": []
  },
  {
   "cell_type": "code",
   "execution_count": null,
   "metadata": {
    "collapsed": true
   },
   "outputs": [],
   "source": []
  }
 ],
 "metadata": {
  "kernelspec": {
   "display_name": "Python 3",
   "language": "python",
   "name": "python3"
  },
  "language_info": {
   "codemirror_mode": {
    "name": "ipython",
    "version": 3
   },
   "file_extension": ".py",
   "mimetype": "text/x-python",
   "name": "python",
   "nbconvert_exporter": "python",
   "pygments_lexer": "ipython3",
   "version": "3.6.3"
  }
 },
 "nbformat": 4,
 "nbformat_minor": 2
}
